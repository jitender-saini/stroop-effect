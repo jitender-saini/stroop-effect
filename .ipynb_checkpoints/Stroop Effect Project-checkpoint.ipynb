{
 "cells": [
  {
   "cell_type": "markdown",
   "metadata": {},
   "source": [
    "Stroop Effect - Investigation\n",
    "\n",
    "In this project, I will investigate a classic phenomenon from experimental psychology called the\n",
    "<a href='https://en.wikipedia.org/wiki/Stroop_effect'>Stroop Effect</a>\n",
    "\n",
    "<b>Background Information</b>\n",
    "\n",
    "In a Stroop task, participants are presented with a list of words, with each word displayed in a color of ink. The participant’s task is to say out loud the color of the ink in which the word is printed. The task has two conditions: a congruent words condition, and an incongruent words condition. In the congruent words condition, the words being displayed are color words whose names match the colors in which they are printed: for example RED, BLUE. In the incongruent words condition, the words displayed are color words whose names do not match the colors in which they are printed: for example PURPLE, ORANGE. In each case, we measure the time it takes to name the ink colors in equally-sized lists. Each participant will go through and record a time from each condition.\n",
    "\n",
    "\n",
    "Refrences \n",
    "<ul>\n",
    "    <li>https://faculty.washington.edu/chudler/words.html</li>\n",
    "    <li>https://en.wikipedia.org/wiki/Stroop_effect</li>\n",
    "    <li>http://stattrek.com/probability-distributions/t-distribution.aspx</li>\n",
    "    <li>https://statistics.laerd.com/statistical-guides/dependent-t-test-statistical-guide.php</li>\n",
    "    <li>http://www.markedbyteachers.com/as-and-a-level/psychology/stroop-test-experiment.html</li>\n",
    " </ul>"
   ]
  },
  {
   "cell_type": "markdown",
   "metadata": {},
   "source": [
    "<b>1. What is our independent variable? What is our dependent variable?</b>\n",
    "\n",
    "The congruent words or incongruent words are the Independent Variable in this investigation. The dependent variable is the time taken to recognise the ink of words in both(congruent words or incongruent words) list.That we will be testing in this investigation.\n",
    "\n",
    "<b>The following image demonstrates both conditions. </b>\n",
    "\n",
    "This image shows the congruent words condition.\n",
    "![congruent_words](img/congruent_words.gif)\n",
    "\n",
    "This image shows the incongruent words condition.\n",
    "![incongruent_words](img/incongruent_words.gif)"
   ]
  },
  {
   "cell_type": "markdown",
   "metadata": {},
   "source": [
    "<b>2) What is an appropriate set of hypotheses for this task? What kind of statistical test do you expect to perform? Justify your choices.</b>\n",
    "\n",
    "We need to find whether the mean difference between the two conditions is statistically significant.\n",
    "Congruent condition's mean - $\\mu_1$, \n",
    "Incongruent condition's mean -$\\mu_2$, \n",
    "The mean difference between the two conditions - $\\mu_D$.\n",
    "Therefore we will take the following as our hypothesis:\n",
    "\n",
    "<li>Alternative Hypothesis ($H_a$)</li>\n",
    "    $$H_a:\\mu_D = \\mu_2 - \\mu_1 \\neq 0$$    \n",
    " If the color the word is written in matches the word, it will be identified more quickly than if the color the word is written in is contradictory.     \n",
    "\n",
    "\n",
    "<li> Null Hypothesis ($H_0$):\n",
    "    $$H_0:\\mu_D = \\mu_2 - \\mu_1 = 0$$\n",
    "There will be no significant difference in the time taken to read colored words written in the same colored ink and the name of colors written in different colored ink.\n",
    "\n",
    "If $\\mu_D$ is significantly greater than 0, we can say that the incongruent condition resulted in longer times than the congruent condition. Likewise, if $\\mu_D$ is significantly less than 0, we can say that the incongruent condition resulted in shorter times than the congruent condition.\n",
    "\n",
    "Assuming that the population data is approximately normally distribution and for the reasons listed below,I have decided to use the one-tailed t-test in this hypothesis, which is carried out when two different treatments are applied to the same subjects.\n",
    "<ul>\n",
    "    <li>The sample size is less than 30 (n=24)</li>\n",
    "    <li>The variance of the population is unknown.</li>\n",
    "    <li>Two different treatments are applied to the same participants</li>\n",
    "</ul>"
   ]
  },
  {
   "cell_type": "markdown",
   "metadata": {},
   "source": [
    "<b>3) Report some descriptive statistics regarding this dataset. Include at least one measure of central tendency and at least one measure of variability.</b>"
   ]
  },
  {
   "cell_type": "code",
   "execution_count": 3,
   "metadata": {},
   "outputs": [],
   "source": [
    "# Import Libraries \n",
    "import math\n",
    "from scipy import stats\n",
    "import pandas as pd\n",
    "import seaborn as sns\n",
    "import matplotlib.pyplot as plt\n",
    "from scipy.stats import t\n",
    "%matplotlib inline\n",
    "\n",
    "# Setting the sns style\n",
    "sns.set_style(\"whitegrid\")"
   ]
  },
  {
   "cell_type": "code",
   "execution_count": 6,
   "metadata": {},
   "outputs": [
    {
     "data": {
      "text/html": [
       "<div>\n",
       "<style scoped>\n",
       "    .dataframe tbody tr th:only-of-type {\n",
       "        vertical-align: middle;\n",
       "    }\n",
       "\n",
       "    .dataframe tbody tr th {\n",
       "        vertical-align: top;\n",
       "    }\n",
       "\n",
       "    .dataframe thead th {\n",
       "        text-align: right;\n",
       "    }\n",
       "</style>\n",
       "<table border=\"1\" class=\"dataframe\">\n",
       "  <thead>\n",
       "    <tr style=\"text-align: right;\">\n",
       "      <th></th>\n",
       "      <th>Congruent</th>\n",
       "      <th>Incongruent</th>\n",
       "    </tr>\n",
       "  </thead>\n",
       "  <tbody>\n",
       "    <tr>\n",
       "      <th>count</th>\n",
       "      <td>24.000000</td>\n",
       "      <td>24.000000</td>\n",
       "    </tr>\n",
       "    <tr>\n",
       "      <th>mean</th>\n",
       "      <td>14.051125</td>\n",
       "      <td>22.015917</td>\n",
       "    </tr>\n",
       "    <tr>\n",
       "      <th>std</th>\n",
       "      <td>3.559358</td>\n",
       "      <td>4.797057</td>\n",
       "    </tr>\n",
       "    <tr>\n",
       "      <th>min</th>\n",
       "      <td>8.630000</td>\n",
       "      <td>15.687000</td>\n",
       "    </tr>\n",
       "    <tr>\n",
       "      <th>25%</th>\n",
       "      <td>11.895250</td>\n",
       "      <td>18.716750</td>\n",
       "    </tr>\n",
       "    <tr>\n",
       "      <th>50%</th>\n",
       "      <td>14.356500</td>\n",
       "      <td>21.017500</td>\n",
       "    </tr>\n",
       "    <tr>\n",
       "      <th>75%</th>\n",
       "      <td>16.200750</td>\n",
       "      <td>24.051500</td>\n",
       "    </tr>\n",
       "    <tr>\n",
       "      <th>max</th>\n",
       "      <td>22.328000</td>\n",
       "      <td>35.255000</td>\n",
       "    </tr>\n",
       "  </tbody>\n",
       "</table>\n",
       "</div>"
      ],
      "text/plain": [
       "       Congruent  Incongruent\n",
       "count  24.000000    24.000000\n",
       "mean   14.051125    22.015917\n",
       "std     3.559358     4.797057\n",
       "min     8.630000    15.687000\n",
       "25%    11.895250    18.716750\n",
       "50%    14.356500    21.017500\n",
       "75%    16.200750    24.051500\n",
       "max    22.328000    35.255000"
      ]
     },
     "execution_count": 6,
     "metadata": {},
     "output_type": "execute_result"
    }
   ],
   "source": [
    "stroop_data = pd.read_csv('./data/stroopdata.csv')\n",
    "congruent_data = stroop_data['Congruent']\n",
    "incongruent_data = stroop_data['Incongruent']\n",
    "\n",
    "# The difference between the two conditions\n",
    "data_diff = incongruent_data - congruent_data\n",
    "data_diff_frame = pd.DataFrame({\"Difference\":data_diff})\n",
    "\n",
    "# Describing statistics of both conditions\n",
    "stroop_data.describe()"
   ]
  },
  {
   "cell_type": "code",
   "execution_count": 44,
   "metadata": {},
   "outputs": [
    {
     "data": {
      "text/html": [
       "<div>\n",
       "<style scoped>\n",
       "    .dataframe tbody tr th:only-of-type {\n",
       "        vertical-align: middle;\n",
       "    }\n",
       "\n",
       "    .dataframe tbody tr th {\n",
       "        vertical-align: top;\n",
       "    }\n",
       "\n",
       "    .dataframe thead th {\n",
       "        text-align: right;\n",
       "    }\n",
       "</style>\n",
       "<table border=\"1\" class=\"dataframe\">\n",
       "  <thead>\n",
       "    <tr style=\"text-align: right;\">\n",
       "      <th></th>\n",
       "      <th>Difference</th>\n",
       "    </tr>\n",
       "  </thead>\n",
       "  <tbody>\n",
       "    <tr>\n",
       "      <th>count</th>\n",
       "      <td>24.000000</td>\n",
       "    </tr>\n",
       "    <tr>\n",
       "      <th>mean</th>\n",
       "      <td>7.964792</td>\n",
       "    </tr>\n",
       "    <tr>\n",
       "      <th>std</th>\n",
       "      <td>4.864827</td>\n",
       "    </tr>\n",
       "    <tr>\n",
       "      <th>min</th>\n",
       "      <td>1.950000</td>\n",
       "    </tr>\n",
       "    <tr>\n",
       "      <th>25%</th>\n",
       "      <td>3.645500</td>\n",
       "    </tr>\n",
       "    <tr>\n",
       "      <th>50%</th>\n",
       "      <td>7.666500</td>\n",
       "    </tr>\n",
       "    <tr>\n",
       "      <th>75%</th>\n",
       "      <td>10.258500</td>\n",
       "    </tr>\n",
       "    <tr>\n",
       "      <th>max</th>\n",
       "      <td>21.919000</td>\n",
       "    </tr>\n",
       "  </tbody>\n",
       "</table>\n",
       "</div>"
      ],
      "text/plain": [
       "       Difference\n",
       "count   24.000000\n",
       "mean     7.964792\n",
       "std      4.864827\n",
       "min      1.950000\n",
       "25%      3.645500\n",
       "50%      7.666500\n",
       "75%     10.258500\n",
       "max     21.919000"
      ]
     },
     "execution_count": 44,
     "metadata": {},
     "output_type": "execute_result"
    }
   ],
   "source": [
    "# Describing statistics of data_diff_frame conditions\n",
    "data_diff_frame.describe()"
   ]
  },
  {
   "cell_type": "markdown",
   "metadata": {},
   "source": [
    "<b>4) Provide one or two visualizations that show the distribution of the sample data. Write one or two sentences noting what you observe about the plot or plots.</b>\n",
    "\n",
    "The Distribution of the sample data can be visualized with distplot(this will draw a histogram and fit a kernel density estimate (KDE)), boxplot(Draw a box plot to show distributions with respect to categories) shown below. "
   ]
  },
  {
   "cell_type": "code",
   "execution_count": 45,
   "metadata": {},
   "outputs": [
    {
     "data": {
      "text/plain": [
       "<matplotlib.axes._subplots.AxesSubplot at 0x7f4895e45ef0>"
      ]
     },
     "execution_count": 45,
     "metadata": {},
     "output_type": "execute_result"
    },
    {
     "data": {
      "image/png": "[encoded data removed]",
      "text/plain": [
       "<matplotlib.figure.Figure at 0x7f489626c780>"
      ]
     },
     "metadata": {},
     "output_type": "display_data"
    }
   ],
   "source": [
    "# Histogram of the congruent conditions\n",
    "sns.distplot(congruent_data)"
   ]
  },
  {
   "cell_type": "markdown",
   "metadata": {},
   "source": [
    "The middle of the congruent data is a little bit less than 15 and the congruent data is more or less normally distributed. The histogram is Skewed to the right.\n"
   ]
  },
  {
   "cell_type": "code",
   "execution_count": 46,
   "metadata": {},
   "outputs": [
    {
     "data": {
      "text/plain": [
       "<matplotlib.axes._subplots.AxesSubplot at 0x7f48963acdd8>"
      ]
     },
     "execution_count": 46,
     "metadata": {},
     "output_type": "execute_result"
    },
    {
     "data": {
      "image/png": "[encoded data removed]",
      "text/plain": [
       "<matplotlib.figure.Figure at 0x7f4895db4d30>"
      ]
     },
     "metadata": {},
     "output_type": "display_data"
    }
   ],
   "source": [
    "# Histogram of the incongruent conditions\n",
    "sns.distplot(incongruent_data)"
   ]
  },
  {
   "cell_type": "markdown",
   "metadata": {},
   "source": [
    "The Incongruent data points on the upper end of the distribution that skew it to the right, it look like the expectations."
   ]
  },
  {
   "cell_type": "code",
   "execution_count": 48,
   "metadata": {},
   "outputs": [
    {
     "data": {
      "text/plain": [
       "<matplotlib.axes._subplots.AxesSubplot at 0x7f4895dfd400>"
      ]
     },
     "execution_count": 48,
     "metadata": {},
     "output_type": "execute_result"
    },
    {
     "data": {
      "image/png": "[encoded data removed]",
      "text/plain": [
       "<matplotlib.figure.Figure at 0x7f4895d60470>"
      ]
     },
     "metadata": {},
     "output_type": "display_data"
    }
   ],
   "source": [
    "# Histogram of the difference between the two conditions\n",
    "sns.distplot(data_diff_frame)"
   ]
  },
  {
   "cell_type": "markdown",
   "metadata": {},
   "source": [
    "In this Histogram of the difference between the two conditions, the shape of the mean difference distribution is unclear and could be made clearer with more samples"
   ]
  },
  {
   "cell_type": "code",
   "execution_count": 49,
   "metadata": {},
   "outputs": [
    {
     "data": {
      "image/png": "[encoded data removed]",
      "text/plain": [
       "<matplotlib.figure.Figure at 0x7f4895dfd470>"
      ]
     },
     "metadata": {},
     "output_type": "display_data"
    }
   ],
   "source": [
    "# Box plots of the two conditions\n",
    "sns.boxplot(data=stroop_data)\n",
    "sns.despine(left=True)"
   ]
  },
  {
   "cell_type": "markdown",
   "metadata": {},
   "source": [
    "The mean and the median of the incongruent condition are both greater than the mean and the median of the congruent condition.\n",
    "Additionally we can see that the standard deviation of the incongruent condition is greater than the standard deviation of the congruent condition."
   ]
  },
  {
   "cell_type": "code",
   "execution_count": 72,
   "metadata": {},
   "outputs": [
    {
     "data": {
      "image/png": "[encoded data removed]",
      "text/plain": [
       "<matplotlib.figure.Figure at 0x7f4895918860>"
      ]
     },
     "metadata": {},
     "output_type": "display_data"
    }
   ],
   "source": [
    "# Box plots of the difference between the two conditions\n",
    "sns.boxplot(data=data_diff_frame)\n",
    "sns.despine(left=True)"
   ]
  },
  {
   "cell_type": "markdown",
   "metadata": {},
   "source": [
    "We can see that the mean difference between the incongruent condition and congruent condition id 7.96, meaning that on average the incongruent condition resulted in longer times than the congruent condition."
   ]
  },
  {
   "cell_type": "markdown",
   "metadata": {},
   "source": [
    "<b>5) Now, perform the statistical test and report your results. What is your confidence level and your critical statistic value? Do you reject the null hypothesis or fail to reject it? Come to a conclusion in terms of the experiment task. Did the results match up with your expectations?</b>"
   ]
  },
  {
   "cell_type": "code",
   "execution_count": 5,
   "metadata": {},
   "outputs": [
    {
     "name": "stdout",
     "output_type": "stream",
     "text": [
      "Congruent condition's sample size 24\n",
      "Incongruent condition's sample size 24\n"
     ]
    }
   ],
   "source": [
    "# print the size of both condition's samples to confirn both are of same size\n",
    "print(\"Congruent condition's sample size\",congruent_data.size)\n",
    "print(\"Incongruent condition's sample size\",incongruent_data.size)"
   ]
  },
  {
   "cell_type": "code",
   "execution_count": 9,
   "metadata": {},
   "outputs": [
    {
     "data": {
      "text/plain": [
       "1.7138715277470473"
      ]
     },
     "execution_count": 9,
     "metadata": {},
     "output_type": "execute_result"
    }
   ],
   "source": [
    "# Get the t-critical value for a 95% confidence level and 23 d.f.\n",
    "t.ppf(.95, 23)"
   ]
  },
  {
   "cell_type": "markdown",
   "metadata": {},
   "source": [
    "For a confidence level of 95% and 23 degrees of freedom, the t-critical value ends up being 1.7139\n",
    "\n",
    "the point estimate for the difference of the means is: 22.02 - 14.05 = 7.97"
   ]
  },
  {
   "cell_type": "code",
   "execution_count": 10,
   "metadata": {},
   "outputs": [
    {
     "data": {
      "text/plain": [
       "Difference    4.864827\n",
       "dtype: float64"
      ]
     },
     "execution_count": 10,
     "metadata": {},
     "output_type": "execute_result"
    }
   ],
   "source": [
    "data_diff_frame.std(axis=0)"
   ]
  },
  {
   "cell_type": "markdown",
   "metadata": {},
   "source": [
    "The standard deviation of the differences is 4.86482"
   ]
  },
  {
   "cell_type": "markdown",
   "metadata": {},
   "source": [
    "This means our t-statistic will be:"
   ]
  },
  {
   "cell_type": "code",
   "execution_count": 78,
   "metadata": {},
   "outputs": [
    {
     "data": {
      "text/plain": [
       "8.025996238275749"
      ]
     },
     "execution_count": 78,
     "metadata": {},
     "output_type": "execute_result"
    }
   ],
   "source": [
    "7.97/(4.8648 / math.sqrt(24))"
   ]
  },
  {
   "cell_type": "markdown",
   "metadata": {},
   "source": [
    "The t-statistic (8.02) is greater than the critical value (1.7139) so, we can reject the null hypothesis. \n",
    "\n",
    "It means that congruent task take less time to finish than incongruent tasks.\n",
    "The result is exactly what we expected."
   ]
  },
  {
   "cell_type": "markdown",
   "metadata": {},
   "source": [
    "<b>6. Optional: What do you think is responsible for the effects observed? Can you think of an alternative or similar task that would result in a similar effect? Some research about the problem will be helpful for thinking about these two questions!</b>"
   ]
  },
  {
   "cell_type": "code",
   "execution_count": null,
   "metadata": {},
   "outputs": [],
   "source": []
  }
 ],
 "metadata": {
  "kernelspec": {
   "display_name": "Python 3",
   "language": "python",
   "name": "python3"
  },
  "language_info": {
   "codemirror_mode": {
    "name": "ipython",
    "version": 3
   },
   "file_extension": ".py",
   "mimetype": "text/x-python",
   "name": "python",
   "nbconvert_exporter": "python",
   "pygments_lexer": "ipython3",
   "version": "3.6.4"
  }
 },
 "nbformat": 4,
 "nbformat_minor": 2
}
